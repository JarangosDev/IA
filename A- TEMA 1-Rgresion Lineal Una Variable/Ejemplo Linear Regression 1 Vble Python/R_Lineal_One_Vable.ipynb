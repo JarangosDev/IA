{
  "cells": [
    {
      "cell_type": "code",
      "execution_count": 1,
      "metadata": {
        "id": "AWWRYUQo1Ghv"
      },
      "outputs": [],
      "source": [
        "import numpy as np\n",
        "import matplotlib.pyplot as plt\n",
        "\n",
        "import warnings\n",
        "#suppress warnings\n",
        "warnings.filterwarnings('ignore')"
      ]
    },
    {
      "cell_type": "code",
      "source": [
        "from google.colab import drive\n",
        "\n",
        "drive.mount('/content/drive')\n",
        "\n",
        "%pwd\n",
        "%cd \"/content/drive/MyDrive/Colab Notebooks/IAI84/Linear Regression 1 Vble\"\n",
        "%pwd"
      ],
      "metadata": {
        "colab": {
          "base_uri": "https://localhost:8080/",
          "height": 71
        },
        "id": "bJ7ECBxb1Ono",
        "outputId": "674430bf-cca8-49c1-bab2-4621691e4705"
      },
      "execution_count": 2,
      "outputs": [
        {
          "output_type": "stream",
          "name": "stdout",
          "text": [
            "Mounted at /content/drive\n",
            "/content/drive/MyDrive/Colab Notebooks/IAI84/Linear Regression 1 Vble\n"
          ]
        },
        {
          "output_type": "execute_result",
          "data": {
            "text/plain": [
              "'/content/drive/MyDrive/Colab Notebooks/IAI84/Linear Regression 1 Vble'"
            ],
            "application/vnd.google.colaboratory.intrinsic+json": {
              "type": "string"
            }
          },
          "metadata": {},
          "execution_count": 2
        }
      ]
    },
    {
      "cell_type": "code",
      "execution_count": 3,
      "metadata": {
        "id": "rIEQbpnM1Gh2",
        "colab": {
          "base_uri": "https://localhost:8080/"
        },
        "outputId": "e973ed69-b48f-4f39-cc4f-a212c7366048"
      },
      "outputs": [
        {
          "output_type": "stream",
          "name": "stdout",
          "text": [
            "[17.592    9.1302  13.662   11.854    6.8233  11.886    4.3483  12.\n",
            "  6.5987   3.8166   3.2522  15.505    3.1551   7.2258   0.71618  3.5129\n",
            "  5.3048   0.56077  3.6518   5.3893   3.1386  21.767    4.263    5.1875\n",
            "  3.0825  22.638   13.501    7.0467  14.692   24.147   -1.22     5.9966\n",
            " 12.134    1.8495   6.5426   4.5623   4.1164   3.3928  10.117    5.4974\n",
            "  0.55657  3.9115   5.3854   2.4406   6.7318   1.0463   5.1337   1.844\n",
            "  8.0043   1.0179   6.7504   1.8396   4.2885   4.9981   1.4233  -1.4211\n",
            "  2.4756   4.6042   3.9624   5.4141   5.1694  -0.74279 17.929   12.054\n",
            " 17.054    4.8852   5.7442   7.7754   1.0173  20.992    6.6799   4.0259\n",
            "  1.2784   3.3411  -2.6807   0.29678  3.8845   5.7014   6.7526   2.0576\n",
            "  0.47953  0.20421  0.67861  7.5435   5.3436   4.2415   6.7981   0.92695\n",
            "  0.152    2.8214   1.8451   4.2959   7.2029   1.9869   0.14454  9.0551\n",
            "  0.61705]\n",
            "97\n"
          ]
        }
      ],
      "source": [
        "data=np.loadtxt(\"datos.txt\",delimiter=',',skiprows=0,usecols=[0,1],dtype='float')\n",
        "print(data[:,1])\n",
        "dataSize = data.shape\n",
        "print(dataSize[0])"
      ]
    },
    {
      "cell_type": "markdown",
      "source": [
        "**PLOT DATA**"
      ],
      "metadata": {
        "id": "K1e-VSFsrmCe"
      }
    },
    {
      "cell_type": "code",
      "execution_count": 4,
      "metadata": {
        "colab": {
          "base_uri": "https://localhost:8080/",
          "height": 266
        },
        "id": "Mjnre29q1Gh3",
        "outputId": "c7944b33-29ed-432d-a8c4-1476d27bb99b"
      },
      "outputs": [
        {
          "output_type": "display_data",
          "data": {
            "text/plain": [
              "<Figure size 432x288 with 1 Axes>"
            ],
            "image/png": "[encoded data removed]"
          },
          "metadata": {
            "needs_background": "light"
          }
        }
      ],
      "source": [
        "plt.plot(data[:,0],data[:,1],'*')\n",
        "plt.show()"
      ]
    },
    {
      "cell_type": "code",
      "source": [
        "Beta = np.zeros((2,1))\n",
        "onesVector = np.ones((dataSize[0],))\n",
        "\n",
        "X = np.column_stack((onesVector,data[:,0]))\n",
        "y=np.zeros((dataSize[0],1))\n",
        "y[:,0] = data[:,1]\n",
        "\n",
        "alpha = 0.01\n",
        "numIter = 500\n",
        "m = dataSize[0]\n"
      ],
      "metadata": {
        "id": "iH6I86k5r1Z_"
      },
      "execution_count": 5,
      "outputs": []
    },
    {
      "cell_type": "code",
      "source": [
        "temp1 = (np.reshape(X[:,0],(m,1)))\n",
        "h_beta = np.dot(X,Beta)\n",
        "temp3 = np. multiply(temp1,(np.subtract(h_beta,y)))\n",
        "temp2 = np.sum(temp3)\n",
        "temp4=temp2*(alpha/m)"
      ],
      "metadata": {
        "id": "hHGyuGTNLw6E"
      },
      "execution_count": 6,
      "outputs": []
    },
    {
      "cell_type": "code",
      "source": [
        "def Gradiente(Beta,alpha,m,X,y,numIter,J):\n",
        "  betaTemp = np.zeros((2,1))\n",
        "  h_beta = np.zeros((m,1))\n",
        "  Z = np.zeros((m,1))\n",
        "  \n",
        "\n",
        "  for i in range(numIter):\n",
        "    for j in range(2):\n",
        "      h_beta = np.dot(X,Beta)\n",
        "      temp1 = (np.reshape(X[:,j],(m,1)))\n",
        "      temp2 = np.sum(np. multiply(temp1,(np.subtract(h_beta,y))))\n",
        "      betaTemp[j,0] = Beta[j,0] - (temp2*(alpha/m))\n",
        "  \n",
        "    Beta = betaTemp\n",
        "    h_beta = np.dot(X,Beta)\n",
        "    J[i]  = 0 #Implementar la función cost\n",
        "\n",
        "\n",
        "  return (Beta, J)\n"
      ],
      "metadata": {
        "id": "zTelGu3br2uf"
      },
      "execution_count": 7,
      "outputs": []
    },
    {
      "cell_type": "code",
      "source": [
        "alpha = 0.01\n",
        "numIter = 5500\n",
        "J = np.zeros(numIter,)\n",
        "Beta = np.zeros((2,1))\n",
        "\n",
        "Beta, J = Gradiente(Beta,alpha,m,X,y,numIter,J)\n",
        "\n",
        "plt.plot(J,'*')\n",
        "print(Beta)"
      ],
      "metadata": {
        "id": "okegGxiuwn33",
        "colab": {
          "base_uri": "https://localhost:8080/",
          "height": 301
        },
        "outputId": "890d871b-0d0f-4c45-83bb-85fde3020bcb"
      },
      "execution_count": 8,
      "outputs": [
        {
          "output_type": "stream",
          "name": "stdout",
          "text": [
            "[[-3.89560119]\n",
            " [ 1.19301562]]\n"
          ]
        },
        {
          "output_type": "display_data",
          "data": {
            "text/plain": [
              "<Figure size 432x288 with 1 Axes>"
            ],
            "image/png": "[encoded data removed]"
          },
          "metadata": {
            "needs_background": "light"
          }
        }
      ]
    },
    {
      "cell_type": "code",
      "source": [
        "h_beta = np.dot(X,Beta)\n",
        "plt.plot(data[:,0],data[:,1],'r*')\n",
        "plt.plot(data[:,0],h_beta,'b*')\n",
        "plt.show()"
      ],
      "metadata": {
        "id": "Bh60iXHqr3IA",
        "colab": {
          "base_uri": "https://localhost:8080/",
          "height": 266
        },
        "outputId": "30887110-41bf-4449-a735-c614006a8828"
      },
      "execution_count": 9,
      "outputs": [
        {
          "output_type": "display_data",
          "data": {
            "text/plain": [
              "<Figure size 432x288 with 1 Axes>"
            ],
            "image/png": "[encoded data removed]"
          },
          "metadata": {
            "needs_background": "light"
          }
        }
      ]
    },
    {
      "cell_type": "code",
      "source": [],
      "metadata": {
        "id": "w-4cSvHZI4uU"
      },
      "execution_count": null,
      "outputs": []
    }
  ],
  "metadata": {
    "interpreter": {
      "hash": "2fb87906eb72b3278984fa4ef1b82009a5d37343c48b5d525e5fe538df9ef8a2"
    },
    "kernelspec": {
      "display_name": "Python 3.8.11 ('modelado_3d')",
      "language": "python",
      "name": "python3"
    },
    "language_info": {
      "codemirror_mode": {
        "name": "ipython",
        "version": 3
      },
      "file_extension": ".py",
      "mimetype": "text/x-python",
      "name": "python",
      "nbconvert_exporter": "python",
      "pygments_lexer": "ipython3",
      "version": "3.8.11"
    },
    "orig_nbformat": 4,
    "colab": {
      "provenance": []
    }
  },
  "nbformat": 4,
  "nbformat_minor": 0
}