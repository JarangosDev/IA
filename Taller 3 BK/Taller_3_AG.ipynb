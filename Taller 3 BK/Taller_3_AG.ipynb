{
  "cells": [
    {
      "cell_type": "markdown",
      "metadata": {
        "id": "H9ddZJCL0BC2"
      },
      "source": [
        "**ALGORITMO GENÉTICO**       \n",
        "\n",
        "La **función a minimizar** es: f = (x1^2 + x2 -11)^2 + (x1 + x2^2 -7)^2;\n",
        "\n",
        "**Rango de valores:** 0<=x1,x2<=6;\n",
        "**Número de individuos iniciales:** 20;\n",
        "**Resolución =** 0.006;\n"
      ]
    },
    {
      "cell_type": "code",
      "execution_count": 1,
      "metadata": {
        "id": "PMcF4xc40Zjf"
      },
      "outputs": [],
      "source": [
        "import numpy as np\n",
        "import matplotlib.pyplot as plt"
      ]
    },
    {
      "cell_type": "code",
      "execution_count": 2,
      "metadata": {
        "id": "f5lFQUlT0ASo"
      },
      "outputs": [],
      "source": [
        "xu = 6;             #Límite inferior\n",
        "xl = 0;             #Límite superior\n",
        "res = 0.006;        #Resolución\n",
        "tamanoPobla = 20;   #Tamaño de la Población\n",
        "#Ambas variables tienen el mismo límite. "
      ]
    },
    {
      "cell_type": "code",
      "execution_count": 3,
      "metadata": {
        "id": "tHnv9Syl0nXv"
      },
      "outputs": [],
      "source": [
        "# Calcular el número de bits (q) a utilizar para representar cada variable, con una resolución de 0.006 en el intervalo (0,6):\n",
        "\n",
        "q = np.ceil(np.log2(((xu - xl)/(res))+1))\n"
      ]
    },
    {
      "cell_type": "code",
      "execution_count": 4,
      "metadata": {
        "id": "eGW5s3OJ07RN"
      },
      "outputs": [],
      "source": [
        "def randPopulationPlantilla(xu,xl,tamanoPobla,q):\n",
        "  #binPop: población de números binarios\n",
        "  #decodedV: números binarios en decimal\n",
        "  #r: valores en decimal de las variables x1 y x2;\n",
        "\n",
        "  decodedV = np.random.randint(0,(2**q)-1, size=(tamanoPobla,1)) #Se crea una matriz de valores enteros aleatorios entre 0 y (2^q)-1\n",
        "\n",
        "  binPop = np.zeros((tamanoPobla,int(q)))\n",
        "  cont = 0\n",
        "\n",
        "  #Ciclo para crear matriz de valores binarios\n",
        "  for i in range(decodedV.shape[0]): \n",
        "    binValue = format(decodedV[i,0], '#012b').replace(\"0b\", \"\")\n",
        "    temp = list(map(int, [*binValue]))\n",
        "    binPop[cont,:] = temp\n",
        "    cont+=1\n",
        "\n",
        "  #Valores en decimal de las variables x1 y x2\n",
        "  r = ((xu-xl)/((2**q)-1))*decodedV\n",
        "\n",
        "\n",
        "  return(binPop,decodedV,r)\n",
        "\n"
      ]
    },
    {
      "cell_type": "code",
      "execution_count": 5,
      "metadata": {
        "id": "CNHpeHVkYaCu"
      },
      "outputs": [],
      "source": [
        "#Inicialización de la Población de Individuos\n",
        "binPopx1,decodedVx1,rx1 = randPopulationPlantilla(xu,xl,tamanoPobla,q)\n",
        "binPopx2,decodedVx2,rx2 = randPopulationPlantilla(xu,xl,tamanoPobla,q)"
      ]
    },
    {
      "cell_type": "code",
      "execution_count": 6,
      "metadata": {},
      "outputs": [
        {
          "name": "stdout",
          "output_type": "stream",
          "text": [
            "10.0\n",
            "[[1. 0. 0. 1. 0. 1. 0. 1. 1. 1.]\n",
            " [0. 1. 0. 0. 0. 0. 0. 0. 1. 1.]\n",
            " [1. 1. 1. 1. 0. 1. 1. 1. 1. 1.]\n",
            " [1. 0. 0. 0. 0. 1. 0. 0. 0. 1.]\n",
            " [1. 1. 0. 1. 0. 0. 0. 1. 0. 1.]\n",
            " [1. 0. 0. 1. 1. 1. 0. 0. 1. 0.]\n",
            " [0. 0. 0. 1. 0. 1. 0. 1. 0. 1.]\n",
            " [0. 0. 0. 0. 1. 1. 0. 1. 1. 1.]\n",
            " [1. 0. 1. 0. 1. 0. 1. 0. 1. 0.]\n",
            " [0. 1. 0. 0. 1. 1. 1. 1. 0. 1.]\n",
            " [0. 1. 1. 0. 1. 1. 0. 1. 1. 0.]\n",
            " [1. 0. 1. 0. 0. 0. 1. 0. 0. 0.]\n",
            " [0. 1. 0. 1. 1. 0. 0. 0. 1. 0.]\n",
            " [0. 0. 1. 1. 1. 0. 1. 1. 0. 0.]\n",
            " [0. 1. 0. 0. 1. 1. 1. 1. 1. 1.]\n",
            " [0. 0. 0. 0. 0. 0. 1. 0. 1. 0.]\n",
            " [0. 1. 0. 0. 1. 0. 1. 1. 1. 0.]\n",
            " [0. 1. 1. 1. 0. 1. 1. 1. 0. 1.]\n",
            " [0. 1. 0. 1. 1. 1. 0. 1. 0. 1.]\n",
            " [1. 1. 0. 1. 1. 0. 1. 1. 0. 0.]]\n"
          ]
        }
      ],
      "source": [
        "#Desde aquí empezamos a realizar los pasos que dicen completar e implementar los pasos mencionados.\n",
        "print(q)\n",
        "print(binPopx2)\n"
      ]
    },
    {
      "cell_type": "code",
      "execution_count": 7,
      "metadata": {
        "id": "fUGv8QQEZeD7"
      },
      "outputs": [],
      "source": [
        "#Cálculo de la Función Fitness\n",
        "# formula: f = (x1^2 + x2 -11)^2 + (x1 + x2^2 -7)^2;\n",
        "\n",
        "def Fitness(rx1,rx2):\n",
        "  f = np.zeros((20,1))\n",
        "  #Completar\n",
        "  for i in range(20):\n",
        "    cal = (((rx1[i]**2) + rx2[i] -11)**2) + ((rx1[i] + (rx2[i])**2 - 7)**2)\n",
        "    f[i] = cal\n",
        "  Fit = 1/(f+1)\n",
        "\n",
        "  print(Fit)\n",
        "\n",
        "  return (Fit,f)\n",
        "\n"
      ]
    },
    {
      "cell_type": "code",
      "execution_count": 8,
      "metadata": {},
      "outputs": [
        {
          "name": "stdout",
          "output_type": "stream",
          "text": [
            "[[0.00127552]\n",
            " [0.00236407]\n",
            " [0.00119383]\n",
            " [0.02687462]\n",
            " [0.00284174]\n",
            " [0.01213853]\n",
            " [0.07661111]\n",
            " [0.01636194]\n",
            " [0.00729506]\n",
            " [0.01414621]\n",
            " [0.00133366]\n",
            " [0.00889024]\n",
            " [0.01327628]\n",
            " [0.09829161]\n",
            " [0.08061519]\n",
            " [0.01436162]\n",
            " [0.01048417]\n",
            " [0.01776675]\n",
            " [0.00200882]\n",
            " [0.00137949]]\n"
          ]
        }
      ],
      "source": [
        "Fit, f2 = Fitness(rx1,rx2)"
      ]
    },
    {
      "cell_type": "code",
      "execution_count": 9,
      "metadata": {
        "id": "qAiDhDVoZnYR"
      },
      "outputs": [],
      "source": [
        "#Cálculo de la Reproducción\n",
        "def Reproduccion(Fit,binPopx1,binPopx2):\n",
        "  P = np.zeros((20,1))\n",
        "  PA = np.zeros((20,1))\n",
        "  MP = np.zeros((20,2))\n",
        "  MR = np.zeros((20, int(q*2)))\n",
        "  m = Fit.shape\n",
        "  #Completar:\n",
        "  \n",
        "  MP[0,0] = 0.0\n",
        "  \n",
        "  for s in range(m[0]):\n",
        "    K = np.random.rand()\n",
        "    #Probabilidades:\n",
        "    for i in range(m[0]):\n",
        "      P[i] = Fit[i] / np.sum(Fit)\n",
        "\n",
        "    #Probabilidad Acumulada\n",
        "    for j in range(m[0] - 1): \n",
        "      PA[0, 0] = P[0, 0]\n",
        "      PA[(j + 1), 0] = PA[j, 0] + P[(j + 1), 0]\n",
        "\n",
        "    #Matriz Probabilidades\n",
        "    for l in range(m[0] - 1):\n",
        "      MP[0, 1] = PA[0, 0]\n",
        "      MP[(l + 1), 0] = PA[l , 0]\n",
        "      MP[(l + 1), 1] = PA[(l + 1), 0]\n",
        "\n",
        "    #Cálculo de fila \n",
        "    for k in range(m[0]):\n",
        "      if K >= MP[k, 0] and K <= MP[(k + 1), 0]:\n",
        "        fila = k\n",
        "    #Metodo Ruleta\n",
        "    MR[s, :] = np.concatenate((binPopx1[(int(fila)),:], binPopx2[(int(fila)),:]), axis=0)\n",
        "\n",
        "  \n",
        "  return (MP, PA, P, K, fila, MR)"
      ]
    },
    {
      "cell_type": "code",
      "execution_count": 10,
      "metadata": {},
      "outputs": [
        {
          "name": "stdout",
          "output_type": "stream",
          "text": [
            "[[0. 1. 1. 0. 0. 1. 1. 1. 1. 1. 0. 1. 0. 0. 1. 1. 1. 1. 1. 1.]\n",
            " [0. 1. 1. 0. 0. 1. 1. 1. 1. 1. 0. 1. 0. 0. 1. 1. 1. 1. 1. 1.]\n",
            " [0. 1. 1. 1. 0. 1. 1. 0. 0. 0. 0. 0. 1. 1. 1. 0. 1. 1. 0. 0.]\n",
            " [0. 1. 1. 0. 0. 1. 1. 1. 1. 1. 0. 1. 0. 0. 1. 1. 1. 1. 1. 1.]\n",
            " [1. 0. 0. 0. 1. 1. 1. 0. 0. 0. 0. 0. 0. 1. 0. 1. 0. 1. 0. 1.]\n",
            " [0. 1. 1. 0. 0. 1. 1. 1. 1. 1. 0. 1. 0. 0. 1. 1. 1. 1. 1. 1.]\n",
            " [0. 1. 1. 1. 0. 1. 1. 0. 0. 0. 0. 0. 1. 1. 1. 0. 1. 1. 0. 0.]\n",
            " [0. 1. 1. 1. 0. 1. 1. 0. 0. 0. 0. 0. 1. 1. 1. 0. 1. 1. 0. 0.]\n",
            " [1. 0. 0. 0. 1. 1. 1. 0. 0. 0. 0. 0. 0. 1. 0. 1. 0. 1. 0. 1.]\n",
            " [1. 0. 0. 0. 1. 1. 1. 0. 0. 0. 0. 0. 0. 1. 0. 1. 0. 1. 0. 1.]\n",
            " [1. 0. 0. 0. 1. 1. 1. 0. 0. 0. 0. 0. 0. 1. 0. 1. 0. 1. 0. 1.]\n",
            " [0. 0. 0. 1. 1. 0. 1. 0. 0. 1. 1. 0. 1. 0. 0. 0. 1. 0. 0. 0.]\n",
            " [0. 1. 1. 1. 0. 1. 1. 0. 0. 0. 0. 0. 1. 1. 1. 0. 1. 1. 0. 0.]\n",
            " [0. 1. 1. 1. 0. 1. 1. 0. 0. 0. 0. 0. 1. 1. 1. 0. 1. 1. 0. 0.]\n",
            " [0. 1. 1. 0. 0. 1. 1. 1. 1. 1. 0. 1. 0. 0. 1. 1. 1. 1. 1. 1.]\n",
            " [1. 0. 0. 0. 1. 1. 1. 0. 0. 0. 0. 0. 0. 1. 0. 1. 0. 1. 0. 1.]\n",
            " [1. 0. 0. 0. 1. 1. 1. 0. 0. 0. 0. 0. 0. 1. 0. 1. 0. 1. 0. 1.]\n",
            " [0. 1. 1. 0. 0. 1. 1. 1. 1. 1. 0. 1. 0. 0. 1. 1. 1. 1. 1. 1.]\n",
            " [0. 1. 0. 1. 0. 1. 1. 0. 0. 0. 1. 0. 0. 0. 0. 1. 0. 0. 0. 1.]\n",
            " [0. 0. 1. 0. 1. 0. 1. 0. 1. 0. 0. 1. 1. 1. 0. 1. 1. 1. 0. 1.]]\n"
          ]
        }
      ],
      "source": [
        "MP, PA, P, K, fila, MR = Reproduccion(Fit,binPopx1,binPopx2)\n",
        "print(MR)\n"
      ]
    },
    {
      "cell_type": "code",
      "execution_count": 84,
      "metadata": {
        "id": "l7th1O88aJhZ"
      },
      "outputs": [],
      "source": [
        "#Cálculo de Crossover\n",
        "def Crossover(MR):\n",
        "   MC = MR\n",
        "   m = MR.shape\n",
        "   m60 = int((m[0] * 0.60))\n",
        "\n",
        "   #Completar:\n",
        "   for i in range(0, m60, 2):\n",
        "      K = np.random.randint(0, m[0])\n",
        "\n",
        "      Padre1 = MC[i, :]\n",
        "      Padre2 = MC[(i + 1), :]\n",
        "\n",
        "      Hijo1 = Padre1[:K]\n",
        "      Hijo11 = Padre2[K:]\n",
        "\n",
        "      Hijo2 = Padre2[:K]\n",
        "      Hijo22 = Padre1[K:]\n",
        "\n",
        "      X1 = np.concatenate((Hijo1, Hijo11), axis=0)\n",
        "      X2 = np.concatenate((Hijo2, Hijo22), axis=0)\n",
        "\n",
        "      MC[i,:] = X1\n",
        "      MC[(i + 1),:] = X2  \n",
        "   return (MC, K, Padre1, Padre2, X1)"
      ]
    },
    {
      "cell_type": "code",
      "execution_count": 95,
      "metadata": {},
      "outputs": [
        {
          "name": "stdout",
          "output_type": "stream",
          "text": [
            "7\n",
            "[[0. 1. 1. 0. 0. 1. 1. 1. 1. 1. 0. 1. 0. 0. 1. 1. 1. 1. 1. 1.]\n",
            " [0. 1. 1. 0. 0. 1. 1. 1. 1. 1. 0. 1. 0. 0. 1. 1. 1. 1. 1. 1.]\n",
            " [0. 1. 1. 1. 0. 1. 1. 1. 1. 1. 0. 0. 1. 1. 1. 0. 1. 1. 0. 0.]\n",
            " [0. 1. 1. 1. 0. 1. 1. 1. 1. 1. 0. 0. 1. 0. 1. 1. 1. 1. 0. 0.]\n",
            " [0. 1. 1. 0. 0. 1. 1. 1. 1. 1. 0. 0. 0. 1. 1. 1. 1. 1. 0. 1.]\n",
            " [0. 1. 1. 0. 0. 1. 1. 1. 1. 1. 0. 0. 0. 1. 1. 1. 1. 1. 0. 1.]\n",
            " [0. 1. 1. 1. 0. 1. 1. 0. 0. 0. 0. 0. 1. 1. 1. 0. 1. 1. 0. 0.]\n",
            " [0. 1. 1. 1. 0. 1. 1. 0. 0. 0. 0. 0. 1. 1. 1. 0. 1. 1. 0. 0.]\n",
            " [1. 0. 0. 0. 1. 1. 1. 0. 0. 0. 0. 0. 0. 1. 0. 1. 0. 1. 0. 1.]\n",
            " [1. 0. 0. 0. 1. 1. 1. 0. 0. 0. 0. 0. 0. 1. 0. 1. 0. 1. 0. 1.]\n",
            " [0. 0. 0. 0. 1. 0. 1. 0. 0. 1. 0. 0. 0. 1. 0. 0. 1. 0. 0. 1.]\n",
            " [0. 0. 0. 0. 1. 0. 1. 0. 0. 1. 0. 0. 0. 1. 0. 0. 1. 0. 0. 1.]\n",
            " [0. 1. 1. 1. 0. 1. 1. 0. 0. 0. 0. 0. 1. 1. 1. 0. 1. 1. 0. 0.]\n",
            " [0. 1. 1. 1. 0. 1. 1. 0. 0. 0. 0. 0. 1. 1. 1. 0. 1. 1. 0. 0.]\n",
            " [0. 1. 1. 0. 0. 1. 1. 1. 1. 1. 0. 1. 0. 0. 1. 1. 1. 1. 1. 1.]\n",
            " [1. 0. 0. 0. 1. 1. 1. 0. 0. 0. 0. 0. 0. 1. 0. 1. 0. 1. 0. 1.]\n",
            " [1. 0. 0. 0. 1. 1. 1. 0. 0. 0. 0. 0. 0. 1. 0. 1. 0. 1. 0. 1.]\n",
            " [0. 1. 1. 0. 0. 1. 1. 1. 1. 1. 0. 1. 0. 0. 1. 1. 1. 1. 1. 1.]\n",
            " [0. 1. 0. 1. 0. 1. 1. 0. 0. 0. 1. 0. 0. 0. 0. 1. 0. 0. 0. 1.]\n",
            " [0. 0. 1. 0. 1. 0. 1. 0. 1. 0. 0. 1. 1. 1. 0. 1. 1. 1. 0. 1.]]\n"
          ]
        }
      ],
      "source": [
        "MC, K, Padre1, Padre2, X1 = Crossover(MR)\n",
        "print(K)\n",
        "print(MC)\n",
        "\n"
      ]
    },
    {
      "cell_type": "code",
      "execution_count": null,
      "metadata": {
        "id": "IES5KpKUaRON"
      },
      "outputs": [],
      "source": [
        "#Cálculo de la Mutación\n",
        "def Mutacion(MC):\n",
        "  \n",
        "  #Completar:\n",
        "\n",
        "  MM = 0\n",
        "\n",
        "\n",
        "  return (MM)"
      ]
    },
    {
      "cell_type": "code",
      "execution_count": null,
      "metadata": {
        "id": "uYQGTc4_7E9z"
      },
      "outputs": [],
      "source": [
        "#Paso Intermedio\n",
        "\n",
        "def MM2IntmdVal(MM):\n",
        "  binPopx1 = MM[:,0:int(q)]\n",
        "  binPopx2 = MM[:,int(q):]\n",
        "\n",
        "\n",
        "  for i in range(tamanoPobla):\n",
        "    binValX1 = binPopx1[i,:].astype(int)\n",
        "    binValX2 = binPopx2[i,:].astype(int)\n",
        "\n",
        "    binValX1Str = (np.array_str(binValX1)).replace(' ','')[1:-1]\n",
        "    binValX2Str = (np.array_str(binValX2)).replace(' ','')[1:-1]\n",
        "\n",
        "    decodX1 = int(binValX1Str,2)\n",
        "    decodX2 = int(binValX2Str,2)\n",
        "\n",
        "    rx1[i,0] = ((xu-xl)/((2**q)-1))*decodX1\n",
        "    rx2[i,0] = ((xu-xl)/((2**q)-1))*decodX2\n",
        "\n",
        "  return(binPopx1,binPopx2,rx1,rx2)\n"
      ]
    },
    {
      "cell_type": "code",
      "execution_count": null,
      "metadata": {
        "id": "r4eCSAkiaYH-"
      },
      "outputs": [],
      "source": [
        "#Definicion Parámetro Iniciales del problema:\n",
        "\n",
        "xu = 6;             #Límite inferior\n",
        "xl = 0;             #Límite superior\n",
        "res = 0.006;        #Resolución\n",
        "tamanoPobla = 20;   #Tamaño de la Población\n",
        "\n",
        "NumIteraciones = 100\n",
        "f_history = np.zeros((NumIteraciones,1))\n",
        "\n",
        "# Calcule el número de bits (q) a utilizar para representar cada variable, con una resolución de 0.006 en el intervalo (0,6):\n",
        "q = np.ceil(np.log2(((xu - xl)/(res))+1))\n",
        "\n",
        "\n",
        "#Inicialización de la Población de Individuos\n",
        "binPopx1,decodedVx1,rx1 = randPopulationPlantilla(xu,xl,tamanoPobla,q)\n",
        "binPopx2,decodedVx2,rx2 = randPopulationPlantilla(xu,xl,tamanoPobla,q)\n",
        "\n",
        "for l in range(NumIteraciones):\n",
        "  Fit,f = Fitness(rx1,rx2)\n",
        "  f_history[l,0] = min(f)\n",
        "  MR = Reproduccion(Fit,binPopx1,binPopx2)\n",
        "  MC = Crossover(MR)\n",
        "  MM = Mutacion(MC)\n",
        "  (binPopx1,binPopx2,rx1,rx2) = MM2IntmdVal(MM)\n",
        "\n",
        "Fit,f = Fitness(rx1,rx2)\n",
        "posMin = np.argmin(f)\n",
        "print(\"El valor de x1 que minimiza la función es: \", rx1[int(posMin)])\n",
        "print(\"El valor de x2 que minimiza la función es: \", rx2[int(posMin)])\n",
        "plt.plot(f_history)"
      ]
    }
  ],
  "metadata": {
    "colab": {
      "provenance": []
    },
    "kernelspec": {
      "display_name": "Python 3",
      "name": "python3"
    },
    "language_info": {
      "codemirror_mode": {
        "name": "ipython",
        "version": 3
      },
      "file_extension": ".py",
      "mimetype": "text/x-python",
      "name": "python",
      "nbconvert_exporter": "python",
      "pygments_lexer": "ipython3",
      "version": "3.11.2"
    }
  },
  "nbformat": 4,
  "nbformat_minor": 0
}
