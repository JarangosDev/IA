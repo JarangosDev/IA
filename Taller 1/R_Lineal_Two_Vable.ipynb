{
  "cells": [
    {
      "cell_type": "code",
      "execution_count": 19,
      "metadata": {
        "id": "AWWRYUQo1Ghv"
      },
      "outputs": [],
      "source": [
        "import numpy as np\n",
        "import matplotlib.pyplot as plt\n",
        "%matplotlib inline\n",
        "from mpl_toolkits import mplot3d\n",
        "import warnings\n",
        "#suppress warnings\n",
        "warnings.filterwarnings('ignore')"
      ]
    },
    {
      "cell_type": "code",
      "execution_count": 20,
      "metadata": {},
      "outputs": [
        {
          "name": "stdout",
          "output_type": "stream",
          "text": [
            "E:\\Universidad\\2023-1\\INTELIGENCIA ARTIFICIAL\\Documents\\Taller 1\n"
          ]
        },
        {
          "data": {
            "text/plain": [
              "'E:\\\\Universidad\\\\2023-1\\\\INTELIGENCIA ARTIFICIAL\\\\Documents\\\\Taller 1'"
            ]
          },
          "execution_count": 20,
          "metadata": {},
          "output_type": "execute_result"
        }
      ],
      "source": [
        "%pwd\n",
        "%cd \"E:\\\\Universidad\\\\2023-1\\\\INTELIGENCIA ARTIFICIAL\\\\Documents\\\\Taller 1\"\n",
        "%pwd"
      ]
    },
    {
      "cell_type": "code",
      "execution_count": 21,
      "metadata": {
        "colab": {
          "base_uri": "https://localhost:8080/"
        },
        "id": "rIEQbpnM1Gh2",
        "outputId": "e40b069e-1c2d-4e06-c5fe-3827830fe583"
      },
      "outputs": [
        {
          "name": "stdout",
          "output_type": "stream",
          "text": [
            "[3104. 2600. 3400. 2416. 4000. 2985. 2534. 2427. 2380. 2494. 2940. 3000.\n",
            " 2890. 5478. 2268. 3300. 2320. 2236. 3609. 4031. 2767. 2888. 2604. 2962.\n",
            " 4890. 2100. 2458. 3526. 3200. 3637. 2839. 2000. 3040. 4137. 2811. 2437.\n",
            " 2239. 3132. 5215. 3162. 2664. 3238. 3567. 2200. 1852. 2852. 2203.]\n",
            "47\n"
          ]
        }
      ],
      "source": [
        "data = np.loadtxt(\"datos2.txt\",delimiter=',',skiprows=0,usecols=[0,1,2],dtype='float')\n",
        "print(data[:,0])\n",
        "dataSize = data.shape\n",
        "print(dataSize[0])"
      ]
    },
    {
      "cell_type": "code",
      "execution_count": 22,
      "metadata": {
        "colab": {
          "base_uri": "https://localhost:8080/"
        },
        "id": "oVlFXszj3mKF",
        "outputId": "655aa250-0a7c-496a-bfc9-15e659d64ed9"
      },
      "outputs": [
        {
          "name": "stdout",
          "output_type": "stream",
          "text": [
            "[3000.68085106383, 1003.1702127659574, 341412.7659574468]\n",
            "[786.2026187430467, 0.7528428090618781, 123702.54751848178]\n"
          ]
        }
      ],
      "source": [
        "# Cálculo del promedio y la desviación estándar, se crea un vector para cada uno y se almacena la información en filas.\n",
        "\n",
        "prom = []\n",
        "desv = []\n",
        "dataN = []\n",
        "numItera = dataSize[0]\n",
        "\n",
        "prom.append(np.sum(data[:,0])/dataSize[0])\n",
        "prom.append(np.sum(data[:,1])/dataSize[0])\n",
        "prom.append(np.sum(data[:,2])/dataSize[0])\n",
        "print (prom)\n",
        "\n",
        "desv.append(np.std(data[:,0]))\n",
        "desv.append(np.std(data[:,1]))\n",
        "desv.append(np.std(data[:,2]))\n",
        "print (desv)"
      ]
    },
    {
      "cell_type": "code",
      "execution_count": 23,
      "metadata": {
        "colab": {
          "base_uri": "https://localhost:8080/"
        },
        "id": "koTjs5KA_F_p",
        "outputId": "1034e981-149d-4f12-ff5a-f4a32aef26e2"
      },
      "outputs": [],
      "source": [
        "# Aplicación de la fórmula para normalización de los datos, calculado en cada columna del array dataN.\n",
        "dataN = np.zeros((dataSize[0],3))\n",
        "for x in range(dataSize[0]):\n",
        "  dataN[x, 0] = (data[x, 0]-prom[0])/desv[0]\n",
        "\n",
        "\n",
        "for x in range(dataSize[0]):\n",
        "  dataN[x, 1] = (data[x, 1] - prom[1]) / desv[1]\n",
        "\n",
        "\n",
        "for x in range(dataSize[0]):\n",
        "  dataN[x, 2] = (data[x, 2] - prom[2]) / desv[2]\n",
        "#print (dataN)"
      ]
    },
    {
      "cell_type": "markdown",
      "metadata": {
        "id": "K1e-VSFsrmCe"
      },
      "source": [
        "**PLOT DATA**"
      ]
    },
    {
      "cell_type": "code",
      "execution_count": 24,
      "metadata": {
        "id": "iH6I86k5r1Z_"
      },
      "outputs": [],
      "source": [
        "# Llama al np y usa la función zeros para crear el vector Beta con dimensión 3,1 y lo llena de ceros.\n",
        "Beta = np.zeros((3,1))\n",
        "# Llama al np y usa la función ones para crear el vector (de solo unos) con tamaño en la cantidad de filas que tiene dataSize[0] y lo llena de unos.\n",
        "onesVector = np.ones((dataSize[0],))\n",
        "\n",
        "# Se crea la  matriz X que tiene concatenación de el OnesVector con el vector de data en la posición 0. Resultando la matriz que vimos.\n",
        "X = np.column_stack((onesVector,dataN[:,0],dataN[:,1]))\n",
        "\n",
        "# Creo una matriz y que tiene 97 ceros en la primera columna con el dataSize\n",
        "y=np.zeros((dataSize[0],1))\n",
        "\n",
        "# Se tomó la colunma de Y en los datos de entranamiento y se llevó a una variable llamada Y.\n",
        "y[:,0] = dataN[:,2]\n",
        "#print(y)\n",
        "\n",
        "alpha = 0.01\n",
        "numIter = 500\n",
        "m = dataSize[0]\n",
        "\n"
      ]
    },
    {
      "cell_type": "code",
      "execution_count": 25,
      "metadata": {
        "colab": {
          "base_uri": "https://localhost:8080/",
          "height": 851
        },
        "id": "hHGyuGTNLw6E",
        "outputId": "85828be3-ca24-4efa-eb11-bb7e935e277e"
      },
      "outputs": [],
      "source": [
        "# reshape se usa para crear el tamañano de la matriz.\n",
        "temp1 = (np.reshape(X[:,0],(m,1)))\n",
        "# Realiza el proceso de multiplicación de las matrices de filas por columnas.\n",
        "h_beta = np.dot(X,Beta)\n",
        "\n",
        "# np.subtract(h_beta,y) hace la resta uno a uno entre las matrices h_beta(matriz de hipetesis 97 en total) y el vector y, de 97 en total. temp1 luego se multiplica 1 a 1 con la matriz resultante de la resta anterior y el valor restante, será temp3. Multiply es la de producto punto.\n",
        "temp3 = np. multiply(temp1,(np.subtract(h_beta,y)))\n",
        "# temp2 es el resultado de la suma de todo el temp3 y es un escalar.\n",
        "temp2 = np.sum(temp3)\n",
        "# temp2 se multiplica por la división de alpha(0.01) y m, esto es temp4.\n",
        "temp4 = temp2*(alpha/m)\n",
        "#print(temp2)\n",
        "#print(temp3)\n",
        "#print(temp4)\n"
      ]
    },
    {
      "cell_type": "code",
      "execution_count": 26,
      "metadata": {
        "id": "zTelGu3br2uf"
      },
      "outputs": [],
      "source": [
        "# pasamos todos los vectores y datos requeridos como parámetros.\n",
        "def Gradiente(Beta,alpha,m,X,y,numIter,J):\n",
        "  betaTemp = np.zeros((3,1))\n",
        "  h_beta = np.zeros((m,1))  \n",
        "\n",
        "# Ciclo para iterar hasta 500, en python todo arranca desde 0 e iría hasta 499.\n",
        "  for i in range(numIter): \n",
        "    # j arranca en cero y va hasta 1. Es una posición exclusiva. \n",
        "    for j in range(3):\n",
        "      # dot opera filas por columnas.\n",
        "      h_beta = np.dot(X,Beta)\n",
        "      # Cuando la J vale 0, hace el caso B0 y multiplica por la columna de unos, cuando J vale 2, multiplica por la columna de X. \n",
        "      temp1 = (np.reshape(X[:,j],(m,1)))\n",
        "      # internamente se resta la hipótesis - y, luego se multiplica 1 a 1 (multiply) y finalmente se suma y queda un escalar.\n",
        "      temp2 = np.sum(np. multiply(temp1,(np.subtract(h_beta,y))))\n",
        "      # Es un escalar que se almacena en betatemp, primero se divide alpha entre m, se multiplica por temp2 y se resta de Beta, si j es 0, resta de Beta 0 y si es 1, resta Beta 1. \n",
        "      betaTemp[j,0] = Beta[j,0] - (temp2*(alpha/m))\n",
        "  \n",
        "    Beta = betaTemp\n",
        "    h_beta = np.dot(X,Beta)\n",
        "    #Implementar la función cost TAREA. Hacer J[i] = 1/2*m * sumatoria  E desde i hasta m * la resta de hi - yi al cuadrado.\n",
        "    J[i]  = (np.sum(np.subtract(h_beta,y)**2)) *( 1 / (2 * m))\n",
        "  return (Beta, J)\n"
      ]
    },
    {
      "cell_type": "code",
      "execution_count": 27,
      "metadata": {
        "colab": {
          "base_uri": "https://localhost:8080/",
          "height": 301
        },
        "id": "okegGxiuwn33",
        "outputId": "890d871b-0d0f-4c45-83bb-85fde3020bcb"
      },
      "outputs": [
        {
          "data": {
            "text/plain": [
              "[<matplotlib.lines.Line2D at 0x1dfb8d8cb90>]"
            ]
          },
          "execution_count": 27,
          "metadata": {},
          "output_type": "execute_result"
        },
        {
          "data": {
            "image/png": "[encoded data removed]",
            "text/plain": [
              "<Figure size 640x480 with 1 Axes>"
            ]
          },
          "metadata": {},
          "output_type": "display_data"
        }
      ],
      "source": [
        "alpha = 0.01\n",
        "numIter = 5500\n",
        "J = np.zeros(numIter,)\n",
        "Beta = np.zeros((3,1))\n",
        "\n",
        "Beta, J = Gradiente(Beta,alpha,m,X,y,numIter,J)\n",
        "\n",
        "plt.plot(J,'.c')\n"
      ]
    },
    {
      "attachments": {},
      "cell_type": "markdown",
      "metadata": {},
      "source": [
        "3.1 ¿Why is it necessary to normalize the X variables?\n",
        "\n",
        "R: Normalization is important, since it allows comparing data that cannot be compared at first. The above, since the standard deviation is used, with respect to its mean, for all the data.\n",
        "\n",
        "3.2 ¿What can happen if the variable alpha (𝛼) increases or decreases?\n",
        "R: Since alpha is the one that regulates the separation of the data, if alpha increases, it may be more difficult to find a stabilization of the global values, regularly 0.01 is used for linear regression."
      ]
    }
  ],
  "metadata": {
    "colab": {
      "provenance": []
    },
    "kernelspec": {
      "display_name": "Python 3",
      "language": "python",
      "name": "python3"
    },
    "language_info": {
      "codemirror_mode": {
        "name": "ipython",
        "version": 3
      },
      "file_extension": ".py",
      "mimetype": "text/x-python",
      "name": "python",
      "nbconvert_exporter": "python",
      "pygments_lexer": "ipython3",
      "version": "3.11.2"
    },
    "orig_nbformat": 4,
    "vscode": {
      "interpreter": {
        "hash": "630acb01061923def1df97a1ac0ec4cdc774d83cfae7515a559eafa91c6b2214"
      }
    }
  },
  "nbformat": 4,
  "nbformat_minor": 0
}
