{
  "cells": [
    {
      "cell_type": "code",
      "execution_count": 1,
      "metadata": {
        "id": "AWWRYUQo1Ghv"
      },
      "outputs": [],
      "source": [
        "import numpy as np\n",
        "import math\n",
        "import matplotlib.pyplot as plt\n",
        "%matplotlib inline\n",
        "from mpl_toolkits import mplot3d\n",
        "import warnings\n",
        "from sklearn.metrics import confusion_matrix\n",
        "#suppress warnings\n",
        "warnings.filterwarnings('ignore')"
      ]
    },
    {
      "cell_type": "code",
      "execution_count": 2,
      "metadata": {},
      "outputs": [
        {
          "name": "stdout",
          "output_type": "stream",
          "text": [
            "E:\\Universidad\\2023-1\\INTELIGENCIA ARTIFICIAL\\Documents\\Taller 1\n"
          ]
        },
        {
          "data": {
            "text/plain": [
              "'E:\\\\Universidad\\\\2023-1\\\\INTELIGENCIA ARTIFICIAL\\\\Documents\\\\Taller 1'"
            ]
          },
          "execution_count": 2,
          "metadata": {},
          "output_type": "execute_result"
        }
      ],
      "source": [
        "%pwd\n",
        "%cd \"E:\\\\Universidad\\\\2023-1\\\\INTELIGENCIA ARTIFICIAL\\\\Documents\\\\Taller 1\"\n",
        "%pwd"
      ]
    },
    {
      "attachments": {},
      "cell_type": "markdown",
      "metadata": {},
      "source": [
        "**Clasificación con regresión logística (2,5 puntos)**"
      ]
    },
    {
      "attachments": {},
      "cell_type": "markdown",
      "metadata": {},
      "source": [
        "*1.*"
      ]
    },
    {
      "cell_type": "code",
      "execution_count": 3,
      "metadata": {
        "colab": {
          "base_uri": "https://localhost:8080/"
        },
        "id": "rIEQbpnM1Gh2",
        "outputId": "e40b069e-1c2d-4e06-c5fe-3827830fe583"
      },
      "outputs": [],
      "source": [
        "#Almacenamiento de los datos en un matriz \"data\"\n",
        "data = np.loadtxt(\"datos3.txt\",delimiter=',',skiprows=0,usecols=[0,1,2],dtype='float')\n",
        "\n",
        "#Separación de las variables.\n",
        "\n",
        "#Número total de datos de entrenamiento.\n",
        "dataSize = data.shape\n",
        "\n"
      ]
    },
    {
      "cell_type": "code",
      "execution_count": 4,
      "metadata": {
        "colab": {
          "base_uri": "https://localhost:8080/"
        },
        "id": "oVlFXszj3mKF",
        "outputId": "655aa250-0a7c-496a-bfc9-15e659d64ed9"
      },
      "outputs": [
        {
          "name": "stdout",
          "output_type": "stream",
          "text": [
            "[65.64427405732314, 66.22199808811695]\n",
            "[19.360686712476134, 18.48963567058878]\n"
          ]
        }
      ],
      "source": [
        "# Cálculo del promedio y la desviación estándar, se crea un vector para cada uno y se almacena la información en filas.\n",
        "\n",
        "prom = []\n",
        "desv = []\n",
        "dataN = []\n",
        "numItera = dataSize[0]\n",
        "\n",
        "prom.append(np.sum(data[:,0])/dataSize[0])\n",
        "prom.append(np.sum(data[:,1])/dataSize[0])\n",
        "print (prom)\n",
        "\n",
        "desv.append(np.std(data[:,0]))\n",
        "desv.append(np.std(data[:,1]))\n",
        "print (desv)"
      ]
    },
    {
      "cell_type": "code",
      "execution_count": 5,
      "metadata": {
        "colab": {
          "base_uri": "https://localhost:8080/"
        },
        "id": "koTjs5KA_F_p",
        "outputId": "1034e981-149d-4f12-ff5a-f4a32aef26e2"
      },
      "outputs": [
        {
          "name": "stdout",
          "output_type": "stream",
          "text": [
            "60\n",
            "100\n"
          ]
        }
      ],
      "source": [
        "# Aplicación de la fórmula para normalización de los datos, calculado en cada columna del array dataN.\n",
        "dataN = np.zeros((dataSize[0],2))\n",
        "for x in range(dataSize[0]):\n",
        "  dataN[x, 0] = (data[x, 0]-prom[0])/desv[0]\n",
        "\n",
        "\n",
        "for x in range(dataSize[0]):\n",
        "  dataN[x, 1] = (data[x, 1] - prom[1]) / desv[1]\n",
        "\n",
        "y = data[:,2]\n",
        "x1 = dataN[:,0]\n",
        "x2 = dataN[:,1]\n",
        "\n",
        "#Cantidad de datos en y que no son ceros.\n",
        "print(np.count_nonzero(y))\n",
        "print(len(data))\n"
      ]
    },
    {
      "attachments": {},
      "cell_type": "markdown",
      "metadata": {},
      "source": [
        "*2.*"
      ]
    },
    {
      "cell_type": "code",
      "execution_count": 6,
      "metadata": {},
      "outputs": [],
      "source": [
        "# Segregación de los datos en 2 grupos, valores de X1 y X2 con Y igual a cero y valores de X1 y X2 con Y igual a uno.\n",
        "dataX1Y0 = np.zeros((100-np.count_nonzero(y),2))\n",
        "dataX1Y1 = np.zeros((np.count_nonzero(y),2))\n",
        "dataX2Y0 = np.zeros((100-np.count_nonzero(y),2))\n",
        "dataX2Y1 = np.zeros((np.count_nonzero(y),2))\n",
        "contador0 = 0\n",
        "contador1 = 0\n",
        "for x in range(dataSize[0]):\n",
        "  if y[x] == 0:\n",
        "    dataX1Y0[contador0,0] = x1[x]\n",
        "    dataX1Y0[contador0,1] = y[x]\n",
        "    dataX2Y0[contador0,0] = x2[x]\n",
        "    dataX2Y0[contador0,1] = y[x]\n",
        "    contador0 = contador0 + 1\n",
        "  else:\n",
        "    dataX1Y1[contador1,0] = x1[x]\n",
        "    dataX1Y1[contador1,1] = y[x]\n",
        "    dataX2Y1[contador1,0] = x2[x]\n",
        "    dataX2Y1[contador1,1] = y[x]\n",
        "    contador1 = contador1 + 1\n",
        "\n",
        "\n",
        "#print(dataX2Y0.shape)\n"
      ]
    },
    {
      "cell_type": "code",
      "execution_count": 7,
      "metadata": {},
      "outputs": [
        {
          "data": {
            "image/png": "[encoded data removed]",
            "text/plain": [
              "<Figure size 640x480 with 1 Axes>"
            ]
          },
          "metadata": {},
          "output_type": "display_data"
        }
      ],
      "source": [
        "plt.plot(dataX1Y0[:,0],dataX2Y0[:,0],'.r')\n",
        "plt.plot(dataX1Y1[:,0],dataX2Y1[:,0],'.c')\n",
        "plt.title(\"X1 vs X2\")\n",
        "plt.show()"
      ]
    },
    {
      "attachments": {},
      "cell_type": "markdown",
      "metadata": {
        "id": "K1e-VSFsrmCe"
      },
      "source": [
        "**3.**"
      ]
    },
    {
      "cell_type": "code",
      "execution_count": 8,
      "metadata": {
        "id": "iH6I86k5r1Z_"
      },
      "outputs": [],
      "source": [
        "# Llama al np y usa la función zeros para crear el vector Beta con dimensión 3,1 y lo llena de ceros.\n",
        "Beta = np.zeros((3,1))\n",
        "# Llama al np y usa la función ones para crear el vector (puros unos) con tamaño en la cantidad de filas que tiene dataSize[0] y lo llena de unos.\n",
        "onesVector = np.ones((dataSize[0],))\n",
        "\n",
        "# Se crea la  matriz X que tiene concatenación de el OnesVector con el vector de data en la posición 0. Resultando la matriz que vimos.\n",
        "X = np.column_stack((onesVector,dataN[:,0],dataN[:,1]))\n",
        "\n",
        "# Creo una matriz y que tiene 97 ceros en la primera columna con el dataSize\n",
        "y2=np.zeros((dataSize[0],1))\n",
        "\n",
        "# Se tomó la colunma de Y en los datos de entranamiento y se llevó a una variable llamada Y.\n",
        "y2[:,0] = data[:,2]\n",
        "#print(y)\n",
        "alpha = 0.01\n",
        "numIter = 5500\n",
        "m = dataSize[0]\n"
      ]
    },
    {
      "cell_type": "code",
      "execution_count": 9,
      "metadata": {
        "colab": {
          "base_uri": "https://localhost:8080/",
          "height": 851
        },
        "id": "hHGyuGTNLw6E",
        "outputId": "85828be3-ca24-4efa-eb11-bb7e935e277e"
      },
      "outputs": [],
      "source": [
        "# reshape se usa para crear el tamañano de la matriz.\n",
        "temp1 = (np.reshape(X[:,0],(m,1)))\n",
        "# Realiza el proceso de multiplicación de las matrices de filas por columnas.\n",
        "h_beta = np.dot(X,Beta)\n",
        "\n",
        "# np.subtract(h_beta,y) hace la resta uno a uno entre las matrices h_beta(matriz de hipetesis 97 en total) y el vector y, de 97 en total. temp1 luego se multiplica 1 a 1 con la matriz resultante de la resta anterior y el valor restante, será temp3. Multiply es la de producto punto.\n",
        "temp3 = np. multiply(temp1,(np.subtract(h_beta,y)))\n",
        "# temp2 es el resultado de la suma de todo el temp3 y es un escalar.\n",
        "temp2 = np.sum(temp3)\n",
        "# temp2 se multiplica por la división de alpha(0.01) y m, esto es temp4.\n",
        "temp4 = temp2*(alpha/m)\n",
        "\n"
      ]
    },
    {
      "attachments": {},
      "cell_type": "markdown",
      "metadata": {},
      "source": [
        "*4.*"
      ]
    },
    {
      "cell_type": "code",
      "execution_count": 10,
      "metadata": {
        "id": "zTelGu3br2uf"
      },
      "outputs": [],
      "source": [
        "# pasamos todos los vectores y datos requeridos como parámetros.\n",
        "def Gradiente(Beta,alpha,m,X,y,numIter,Z):\n",
        "  betaTemp = np.zeros((3,1))\n",
        "  h_beta = np.zeros((m,1))  \n",
        "  \n",
        "# Ciclo para iterar hasta 500, en python todo arranca desde 0 e iría hasta 499.\n",
        "  for i in range(numIter): \n",
        "    # j arranca en cero y va hasta 1. Es una posición exclusiva. \n",
        "    for j in range(3):\n",
        "      # Z es igual a BX.\n",
        "      Z = np.dot(X,Beta)\n",
        "      #Función de hipotésis.\n",
        "      h_beta = 1 / (1 + math.e**(-Z))\n",
        "      \n",
        "      # Cuando la J vale 0, hace el caso B0 y multiplica por la columna de unos, cuando J vale 2, multiplica por la columna de X. \n",
        "      temp1 = (np.reshape(X[:,j],(m,1)))\n",
        "      # internamente se resta la hipótesis - y, luego se multiplica 1 a 1 (multiply) y finalmente se suma y queda un escalar.\n",
        "      temp2 = np.sum(np. multiply(temp1,(np.subtract(h_beta,y2))))\n",
        "      # Es un escalar que se almacena en betatemp, primero se divide alpha entre m, se multiplica por temp2 y se resta de Beta, si j es 0, resta de Beta 0 y si es 1, resta Beta 1. \n",
        "      betaTemp[j,0] = (Beta[j,0] - (temp2*(alpha/m))) + ((1/m)*Beta[j,0])\n",
        "    Beta = betaTemp\n",
        "  return (Beta, h_beta, Z)\n"
      ]
    },
    {
      "cell_type": "code",
      "execution_count": 11,
      "metadata": {
        "colab": {
          "base_uri": "https://localhost:8080/",
          "height": 301
        },
        "id": "okegGxiuwn33",
        "outputId": "890d871b-0d0f-4c45-83bb-85fde3020bcb"
      },
      "outputs": [],
      "source": [
        "alpha = 0.01\n",
        "numIter = 5500\n",
        "Beta = np.zeros((3,1))\n",
        "Z = np.zeros((dataSize[0],1))\n",
        "line = np.zeros((dataSize[0],1))\n",
        "Beta, h_beta, Z = Gradiente(Beta,alpha,m,X,y,numIter,Z)\n",
        "contador3 = 0\n",
        "\n",
        "#print(h_beta)"
      ]
    },
    {
      "attachments": {},
      "cell_type": "markdown",
      "metadata": {},
      "source": [
        "*5*"
      ]
    },
    {
      "cell_type": "code",
      "execution_count": 12,
      "metadata": {},
      "outputs": [],
      "source": [
        "#Calculo de la recta que separa los valores.\n",
        "for x in range(m):\n",
        " line[x] = (-Beta[0]-(Beta[2]*dataN[x,1]))/Beta[1]\n",
        " contador3 = contador3 + 1\n"
      ]
    },
    {
      "cell_type": "code",
      "execution_count": 13,
      "metadata": {},
      "outputs": [],
      "source": [
        "#Calculo de la matriz de confusión.\n",
        "FP = 0 # Falsos Positivos (FP)\n",
        "FN = 0 # Falsos Negativos (FN)\n",
        "TP = 0 # Verdaderos Positivos (TP)\n",
        "TN = 0 # Verdaderos Negativos (TN)\n",
        "\n",
        "for x in range(m):\n",
        "    if (y[x] == 0 and h_beta[x] == 0):\n",
        "        TN = TN + 1\n",
        "    elif(y[x] == 1 and h_beta[x] == 1):\n",
        "        TP = TP + 1\n",
        "    elif(y[x] == 0 and h_beta[x] == 1):\n",
        "        FN = FN + 1\n",
        "    else:\n",
        "        FP = FP + 1\n"
      ]
    },
    {
      "attachments": {},
      "cell_type": "markdown",
      "metadata": {},
      "source": [
        "*5.*"
      ]
    },
    {
      "cell_type": "code",
      "execution_count": 14,
      "metadata": {},
      "outputs": [
        {
          "name": "stdout",
          "output_type": "stream",
          "text": [
            "Total Verdaderos Positivos:  55\n",
            "Total Verdaderos Negativos:  35\n",
            "Total Falsos Positivos:  5\n",
            "Total Falsos Negativos:  5\n"
          ]
        },
        {
          "data": {
            "image/png": "[encoded data removed]",
            "text/plain": [
              "<Figure size 640x480 with 1 Axes>"
            ]
          },
          "metadata": {},
          "output_type": "display_data"
        }
      ],
      "source": [
        "#Dibujo de la recta que separa los valores.\n",
        "print(\"Total Verdaderos Positivos: \",TP)\n",
        "print(\"Total Verdaderos Negativos: \",TN)\n",
        "print(\"Total Falsos Positivos: \",FP)\n",
        "print(\"Total Falsos Negativos: \",FN)\n",
        "\n",
        "plt.plot(dataX1Y0[:,0],dataX2Y0[:,0],'.r')\n",
        "plt.plot(dataX1Y1[:,0],dataX2Y1[:,0],'.c')\n",
        "plt.plot(line[:],dataN[:,1],'-m')\n",
        "plt.title(\"X1 vs X2\")\n",
        "plt.show()"
      ]
    },
    {
      "attachments": {},
      "cell_type": "markdown",
      "metadata": {},
      "source": [
        "**III. Evaluación del desempeño de la clasificación con regresión logística**"
      ]
    },
    {
      "cell_type": "code",
      "execution_count": 16,
      "metadata": {},
      "outputs": [
        {
          "name": "stdout",
          "output_type": "stream",
          "text": [
            "Proporción de los clasificados como positivos reales:  0.9166666666666666\n",
            "Proporción de todos los positivos,  clasificados como tal:  0.9166666666666666\n",
            "Proporción de todos los negativos, clasificados como positivos: 0.125\n",
            "Error de clasificación: 0.1\n",
            "Accuracy (Exactitud): 0.9\n"
          ]
        }
      ],
      "source": [
        "# Precisión y Recall\n",
        "\n",
        "P = TP / (TP + FP) # Proporción de los clasificados como positivos, reales.\n",
        "R = TP / (TP + FN) # Proporción de todos los positivos,  clasificados como tal.\n",
        "FPR = FP / (TN + FP) # Proporción de todos los negativos, clasificados como positivos\n",
        "# Errores de clasificación\n",
        "E = (FP + FN) / (TP + TN + FP + FN)\n",
        "#Accuracy\n",
        "A = 1 - E\n",
        "\n",
        "\n",
        "print(\"Proporción de los clasificados como positivos reales: \",P)    \n",
        "print(\"Proporción de todos los positivos,  clasificados como tal: \",R)    \n",
        "print(\"Proporción de todos los negativos, clasificados como positivos:\",FPR) \n",
        "print(\"Error de clasificación:\",E) \n",
        "print(\"Accuracy (Exactitud):\",A) \n"
      ]
    },
    {
      "attachments": {},
      "cell_type": "markdown",
      "metadata": {},
      "source": [
        "**IV. Tipos de Aprendizaje de máquina**"
      ]
    },
    {
      "attachments": {},
      "cell_type": "markdown",
      "metadata": {},
      "source": [
        "El aprendizaje supervisado se diferencia del No supervisado, ya que consiste en que partimos de un conjunto de datos etiquetado previamente y en el cual conocemos el valor del atributo objetivo para el conjunto de datos que disponemos.  El aprendizaje No supervisado parte de datos no etiquetados o no procesados previamente.\n",
        "\n",
        "Diferencias:\n",
        "\n",
        "El aprendizaje automático supervisado generalmente se usa para clasificar datos o hacer predicciones, mientras que el aprendizaje no supervisado generalmente se usa para comprender las relaciones dentro de los conjuntos de datos."
      ]
    }
  ],
  "metadata": {
    "colab": {
      "provenance": []
    },
    "kernelspec": {
      "display_name": "Python 3",
      "language": "python",
      "name": "python3"
    },
    "language_info": {
      "codemirror_mode": {
        "name": "ipython",
        "version": 3
      },
      "file_extension": ".py",
      "mimetype": "text/x-python",
      "name": "python",
      "nbconvert_exporter": "python",
      "pygments_lexer": "ipython3",
      "version": "3.11.2"
    },
    "orig_nbformat": 4,
    "vscode": {
      "interpreter": {
        "hash": "630acb01061923def1df97a1ac0ec4cdc774d83cfae7515a559eafa91c6b2214"
      }
    }
  },
  "nbformat": 4,
  "nbformat_minor": 0
}
